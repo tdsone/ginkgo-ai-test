{
 "cells": [
  {
   "cell_type": "code",
   "execution_count": 12,
   "metadata": {},
   "outputs": [],
   "source": [
    "\n",
    "from ginkgo_ai_client.queries import RNADiffusionMaskedQuery\n",
    "from ginkgo_ai_client import (\n",
    "    GinkgoAIClient,\n",
    ")\n",
    "\n",
    "HIS3 = \"MTEQKALVKRITNETKIQIAISLKGGPLAIEHSIFPEKEAEAVAEQATQSQVINVHTGIGFLDHMIHALAKHSGWSLIVECIGDLHIDDHHTTEDCGIALGQAFKEALGAVRGVKRFGSGFAPLDEALSRAVVDLSNRPYAVVELGLQREKVGDLSCEMIPHFLESFAEASRITLHVDCLRGKNDHHRSESAFKALAVAIREATSPNGTNDVPSTKGVLMGS\"\n",
    "\n",
    "client = GinkgoAIClient()\n",
    "three_utr=\"<mask>\" * 90\n",
    "five_utr=\"<mask>\" * 20\n",
    "protein_sequence=HIS3 # '-' denotes end of protein sequence\n",
    "species=\"SACCHAROMYCES_CEREVISIAE\"\n",
    "query = RNADiffusionMaskedQuery(\n",
    "    three_utr=three_utr,\n",
    "    five_utr=five_utr,\n",
    "    protein_sequence=protein_sequence,\n",
    "    species=species,\n",
    "    model=\"mrna-foundation\",\n",
    "    temperature=1.0,\n",
    "    decoding_order_strategy=\"entropy\",\n",
    "    unmaskings_per_step=10,\n",
    "    num_samples=1\n",
    ")\n",
    "\n",
    "response = client.send_request(query)\n",
    "samples = response.samples\n"
   ]
  },
  {
   "cell_type": "code",
   "execution_count": 13,
   "metadata": {},
   "outputs": [
    {
     "data": {
      "text/plain": [
       "[{'species': 'SACCHAROMYCES_CEREVISIAE',\n",
       "  'five_utr': 'GTAAGGTCTGCTTAGTATTG',\n",
       "  'three_utr': 'GAGGTGATTCCAATTTACTAAGGAAGCTTTCTGAAGGTTCTCTGTATAGACTTGGTAAATACTAAAACGAATAGTAAATCATATCTTATA',\n",
       "  'num_samples': 1,\n",
       "  'temperature': 1,\n",
       "  'unmaskings_per_step': 4,\n",
       "  'decoding_order_strategy': 'max_prob',\n",
       "  'codon_sequence': 'ATGACCGAACAGAAGGCCTTGGTGAAAAGAATAACCAATGAAACGAAGATCCAGATAGCCATCAGCCTAAAGGGTGGCCCGCTGGCCATCGAGCACAGCATATTTCCCGAGAAGGAGGCAGAAGCCGTGGCCGAGCAAGCCACGCAGAGCCAGGTCATTAACGTCCATACTGGCATCGGCTTCCTGGACCACATGATCCACGCTCTCGCCAAGCACAGCGGCTGGAGCCTGATCGTGGAGTGCATCGGAGACCTGCATATCGATGATCATCACACCACCGAGGATTGTGGGATTGCTCTAGGCCAGGCTTTTAAGGAAGCTTTGGGCGCAGTCAGGGGGGTCAAAAGATTCGGCTCAGGCTTCGCACCATTGGACGAGGCCCTAAGCCGAGCTGTTGTAGATTTGAGCAACAGGCCATACGCAGTGGTAGAGCTTGGGCTCCAGAGGGAGAAAGTCGGAGATCTCTCCTGCGAGATGATCCCCCATTTCTTGGAATCCTTCGCTGAGGCTTCCCGGATCACCCTCCACGTGGACTGTCTGCGCGGCAAGAACGACCACCACCGATCCGAAAGCGCCTTCAAGGCTCTAGCCGTGGCGATCAGAGAAGCAACATCTCCCAATGGGACCAACGACGTGCCCTCCACCAAGGGCGTTCTGATGGGGTCA',\n",
       "  'protein_sequence': 'MTEQKALVKRITNETKIQIAISLKGGPLAIEHSIFPEKEAEAVAEQATQSQVINVHTGIGFLDHMIHALAKHSGWSLIVECIGDLHIDDHHTTEDCGIALGQAFKEALGAVRGVKRFGSGFAPLDEALSRAVVDLSNRPYAVVELGLQREKVGDLSCEMIPHFLESFAEASRITLHVDCLRGKNDHHRSESAFKALAVAIREATSPNGTNDVPSTKGVLMGS'}]"
      ]
     },
     "execution_count": 13,
     "metadata": {},
     "output_type": "execute_result"
    }
   ],
   "source": [
    "samples"
   ]
  },
  {
   "cell_type": "code",
   "execution_count": null,
   "metadata": {},
   "outputs": [],
   "source": []
  }
 ],
 "metadata": {
  "kernelspec": {
   "display_name": ".venv",
   "language": "python",
   "name": "python3"
  },
  "language_info": {
   "codemirror_mode": {
    "name": "ipython",
    "version": 3
   },
   "file_extension": ".py",
   "mimetype": "text/x-python",
   "name": "python",
   "nbconvert_exporter": "python",
   "pygments_lexer": "ipython3",
   "version": "3.11.11"
  }
 },
 "nbformat": 4,
 "nbformat_minor": 2
}
